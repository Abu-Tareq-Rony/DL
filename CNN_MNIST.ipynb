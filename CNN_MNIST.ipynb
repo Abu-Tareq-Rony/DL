{
  "nbformat": 4,
  "nbformat_minor": 0,
  "metadata": {
    "colab": {
      "name": "Untitled4.ipynb",
      "provenance": []
    },
    "kernelspec": {
      "name": "python3",
      "display_name": "Python 3"
    }
  },
  "cells": [
    {
      "cell_type": "code",
      "metadata": {
        "id": "jZ1cWCVsfzZg"
      },
      "source": [
        "import numpy as np \n",
        "import pandas as pd\n",
        "from keras.utils import to_categorical\n",
        "#load train and test fashion mnist dataset\n",
        "data_train = pd.read_csv('fashion-mnist_train.csv')\n",
        "data_test = pd.read_csv('fashion-mnist_test.csv')\n",
        "#catagory\n",
        "y_train = to_categorical(np.array(data_train.iloc[:, 0]))\n",
        "y_test = to_categorical(np.array(data_test.iloc[:, 0]))\n",
        "\n",
        "X_train = X_train.reshape(X_train.shape[0], 28, 28, 1)#reshape data into RGB\n",
        "X_test = X_test.reshape(X_test.shape[0], 28, 28, 1)\n",
        "#Normalize dataset\n",
        "X_train /= 255\n",
        "X_test /= 255\n",
        "\n",
        "#Build Model\n",
        "from keras.models import Sequential\n",
        "from keras.layers import Dense, Activation, Dropout, Flatten, Conv2D, MaxPooling2D\n",
        "input_shape = (img_rows, img_cols, 1)\n",
        "model = Sequential()\n",
        "model.add(Conv2D(32, kernel_size=(3, 3),\n",
        "                 activation='relu',\n",
        "                 input_shape=input_shape))\n",
        "model.add(MaxPooling2D(pool_size=(2, 2)))\n",
        "model.add(Dropout(0.25))\n",
        "model.add(Conv2D(64, (3, 3), activation='relu'))\n",
        "model.add(MaxPooling2D(pool_size=(2, 2)))\n",
        "model.add(Dropout(0.25))\n",
        "model.add(Flatten())\n",
        "model.add(Dense(250, activation='relu'))\n",
        "model.add(Dropout(0.5))\n",
        "model.add(Dense(10, activation='softmax'))\n",
        "model.compile(optimizer='adam',\n",
        "          loss='categorical_crossentropy',\n",
        "          metrics=['accuracy'])\n",
        "\n",
        "#Compile Model\n",
        "model.compile(optimizer='adam',\n",
        "          loss='categorical_crossentropy',\n",
        "          metrics=['accuracy'])\n",
        "\n",
        "#Summary of the model\n",
        "model.summary()\n",
        "\n",
        "#Fit model\n",
        "model.fit(X_train, y_train,epochs=10)\n",
        "\n",
        "#Accuracy of the model\n",
        "score = model.evaluate(X_test, y_test)"
      ],
      "execution_count": null,
      "outputs": []
    }
  ]
}