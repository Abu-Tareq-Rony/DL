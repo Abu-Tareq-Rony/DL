{
  "nbformat": 4,
  "nbformat_minor": 0,
  "metadata": {
    "kernelspec": {
      "display_name": "Python 3",
      "language": "python",
      "name": "python3"
    },
    "language_info": {
      "name": "python",
      "version": "3.6.6",
      "mimetype": "text/x-python",
      "codemirror_mode": {
        "name": "ipython",
        "version": 3
      },
      "pygments_lexer": "ipython3",
      "nbconvert_exporter": "python",
      "file_extension": ".py"
    },
    "colab": {
      "name": "MNIST RNN_LSTM.ipynb",
      "provenance": []
    }
  },
  "cells": [
    {
      "cell_type": "code",
      "metadata": {
        "_uuid": "8f2839f25d086af736a60e9eeb907d3b93b6e0e5",
        "_cell_guid": "b1076dfc-b9ad-4769-8c92-a6c4dae69d19",
        "trusted": true,
        "id": "AVkJm64TqHkM"
      },
      "source": [
        "#import important library for RNN and LSTM\n",
        "import tensorflow as  tf\n",
        "from tensorflow.keras.models import Sequential\n",
        "from tensorflow.keras.layers import Dense, Dropout, LSTM"
      ],
      "execution_count": 1,
      "outputs": []
    },
    {
      "cell_type": "code",
      "metadata": {
        "_cell_guid": "79c7e3d0-c299-4dcb-8224-4455121ee9b0",
        "_uuid": "d629ff2d2480ee46fbb7e2d37f6b5fab8052498a",
        "trusted": true,
        "id": "5phwPHCvqHkS"
      },
      "source": [
        "#Load MNIST Dataset\n",
        "mnist = tf.keras.datasets.mnist\n",
        "\n",
        "(x_train, y_train), (x_test, y_test) = mnist.load_data()"
      ],
      "execution_count": 40,
      "outputs": []
    },
    {
      "cell_type": "code",
      "metadata": {
        "trusted": true,
        "_uuid": "b256b065dc1b36ed1d3304fdbbf9aa58fd5ab5c2",
        "id": "TigXN8U5qHkV"
      },
      "source": [
        "#Normalize dataset\n",
        "x_train = x_train / 255.0\n",
        "x_test = x_test / 255.0"
      ],
      "execution_count": 3,
      "outputs": []
    },
    {
      "cell_type": "code",
      "metadata": {
        "trusted": true,
        "_uuid": "51310f24074126fda66f220eb7ceda8f42362ea3",
        "id": "UoxzGGwxqHka"
      },
      "source": [
        "#Check shape\n",
        "x_train[0].shape"
      ],
      "execution_count": 43,
      "outputs": []
    },
    {
      "cell_type": "code",
      "metadata": {
        "id": "jCkgndCs3eIE"
      },
      "source": [
        "# bulid model\n",
        "model = Sequential()\n",
        "model.add(LSTM(128, input_shape=(x_train.shape[1:]), activation='relu', return_sequences=True))\n",
        "model.add(Dropout(0.2))\n",
        "\n",
        "model.add(LSTM(128, activation='relu'))\n",
        "model.add(Dropout(0.2))\n",
        "\n",
        "model.add(Dense(32, activation='relu'))\n",
        "model.add(Dropout(0.2))\n",
        "\n",
        "model.add(Dense(10, activation='softmax'))"
      ],
      "execution_count": 33,
      "outputs": []
    },
    {
      "cell_type": "code",
      "metadata": {
        "trusted": true,
        "_uuid": "0cd6bd062c30da4cf7c549e7e30f6f0307c1e906",
        "id": "5Aj0D65eqHki"
      },
      "source": [
        "#Compile model\n",
        "model.compile(loss='sparse_categorical_crossentropy', optimizer='adam',\n",
        "             metrics=['accuracy'])"
      ],
      "execution_count": 37,
      "outputs": []
    },
    {
      "cell_type": "code",
      "metadata": {
        "trusted": true,
        "_uuid": "d58bfeb55bacdc06f8725142e7a8824207db34a3",
        "id": "7LTmkiioqHkm"
      },
      "source": [
        "#Fit dataset\n",
        "model.fit(x_train, y_train, epochs=3,validation_data=(x_test, y_test))"
      ],
      "execution_count": 41,
      "outputs": []
    },
    {
      "cell_type": "code",
      "metadata": {
        "trusted": true,
        "_uuid": "2d1f0b2173c4c374b02eefe06500b45f9df2e110",
        "id": "ccbu7vd7qHkr"
      },
      "source": [
        "#Accuracy of the model\n",
        "score = model.evaluate(x_test, y_test)"
      ],
      "execution_count": 42,
      "outputs": []
    }
  ]
}