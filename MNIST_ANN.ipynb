{
  "nbformat": 4,
  "nbformat_minor": 0,
  "metadata": {
    "kernelspec": {
      "display_name": "Python 3",
      "language": "python",
      "name": "python3"
    },
    "language_info": {
      "name": "python",
      "version": "3.6.6",
      "mimetype": "text/x-python",
      "codemirror_mode": {
        "name": "ipython",
        "version": 3
      },
      "pygments_lexer": "ipython3",
      "nbconvert_exporter": "python",
      "file_extension": ".py"
    },
    "colab": {
      "name": "MNIST ANN.ipynb",
      "provenance": [],
      "collapsed_sections": []
    }
  },
  "cells": [
    {
      "cell_type": "code",
      "metadata": {
        "_uuid": "1f8223be7895579760c8f03a559987f863f74ea6",
        "_cell_guid": "73d2b9c3-a4b1-49a0-a3c8-0f456d162466",
        "trusted": true,
        "id": "A4sSQZuqGa1W"
      },
      "source": [
        "#import import library\n",
        "import numpy as np\n",
        "import matplotlib.pyplot as plt\n",
        "import pandas as pd"
      ],
      "execution_count": 1,
      "outputs": []
    },
    {
      "cell_type": "code",
      "metadata": {
        "id": "7ZVegPgLGio2"
      },
      "source": [
        "from google.colab import files #upload file in Google colab\n",
        "files.upload()"
      ],
      "execution_count": 30,
      "outputs": []
    },
    {
      "cell_type": "code",
      "metadata": {
        "_uuid": "ec3d366c40d4cbc14c245b83f81dd6b06d090cf8",
        "trusted": true,
        "id": "KH2Ih5zjGa1f"
      },
      "source": [
        "# Importing the dataset\n",
        "df = pd.read_csv('diabetes.csv')#read dataset"
      ],
      "execution_count": 4,
      "outputs": []
    },
    {
      "cell_type": "code",
      "metadata": {
        "_uuid": "1db65fc1e211e02141573c0d70fe453bb4b9d592",
        "trusted": true,
        "id": "rws4dk-gGa1n"
      },
      "source": [
        "df.head()"
      ],
      "execution_count": 28,
      "outputs": []
    },
    {
      "cell_type": "code",
      "metadata": {
        "_uuid": "05623618d1cf8d96aef9c7b3cfbc9984fa50251b",
        "trusted": true,
        "id": "p1p6XxsnGa1t"
      },
      "source": [
        "#divide the dataset into depandent and independent variables \n",
        "X = df.iloc[:, :-1].values\n",
        "y = df.iloc[:, -1].values"
      ],
      "execution_count": 8,
      "outputs": []
    },
    {
      "cell_type": "code",
      "metadata": {
        "_uuid": "e36fd0aae05d24322902139819657974a60ea9f1",
        "trusted": true,
        "id": "hNPrDzopGa10"
      },
      "source": [
        "# Splitting the dataset into the Training set and Test set\n",
        "from sklearn.model_selection import train_test_split\n",
        "X_train, X_test, y_train, y_test = train_test_split(X, y, test_size = 0.25, random_state = 0)"
      ],
      "execution_count": 9,
      "outputs": []
    },
    {
      "cell_type": "code",
      "metadata": {
        "_uuid": "79f68cdaa49fc894235672e688bc16e5014f9bdf",
        "trusted": true,
        "id": "JN6en8ZmGa13"
      },
      "source": [
        "# Feature Scaling\n",
        "from sklearn.preprocessing import StandardScaler\n",
        "sc = StandardScaler()\n",
        "X_train = sc.fit_transform(X_train)\n",
        "X_test = sc.transform(X_test)"
      ],
      "execution_count": 13,
      "outputs": []
    },
    {
      "cell_type": "code",
      "metadata": {
        "_uuid": "9f6eb62fdf5abb348882421b2b3ea409cd9c1940",
        "trusted": true,
        "id": "sIL26o7bGa17"
      },
      "source": [
        "# part 2 making NN\n",
        "#import the keras library and pakage \n",
        "import keras\n",
        "#intializ our NN\n",
        "from keras.models import Sequential\n",
        "#pakage to create layar\n",
        "from keras.layers import Dense\n"
      ],
      "execution_count": 12,
      "outputs": []
    },
    {
      "cell_type": "code",
      "metadata": {
        "_uuid": "f765a5b08d19e7fb2e7a4227ca0fa058fb47c36f",
        "trusted": true,
        "id": "efd4h0XwGa1_"
      },
      "source": [
        "#inatilize the ANN\n",
        "model =Sequential()\n",
        "# create input layer\n",
        "model.add(Dense(6, activation='tanh' , input_dim=8))\n",
        "# create hidden layer\n",
        "model.add(Dense(6,activation='tanh'))\n",
        "# create output layer\n",
        "model.add(Dense(1 , activation='sigmoid'))\n",
        "#compiling the ANN\n",
        "model.compile(optimizer='adam' , loss='binary_crossentropy' , metrics=['accuracy'])\n"
      ],
      "execution_count": 14,
      "outputs": []
    },
    {
      "cell_type": "code",
      "metadata": {
        "_uuid": "4bb3373e9061a27b1e155e0f9d85ad5a7ebf5ba6",
        "trusted": true,
        "id": "8xsgOtnRGa2D"
      },
      "source": [
        "# Fitting the ANN to the Training set\n",
        "#model.fit(X_train, y_train, batch_size = 10, epochs = 100)"
      ],
      "execution_count": 29,
      "outputs": []
    },
    {
      "cell_type": "code",
      "metadata": {
        "_uuid": "6ad8eee3f316613449c3141021194cef41df2bd0",
        "trusted": true,
        "id": "WLSNrKkEGa2G"
      },
      "source": [
        "# Predicting the Test set results\n",
        "y_pred = model.predict(X_test)\n",
        "y_pred = (y_pred > 0.5)"
      ],
      "execution_count": 16,
      "outputs": []
    },
    {
      "cell_type": "code",
      "metadata": {
        "_uuid": "b70ef54c8d5a40e82a56113141f7b5c36833c554",
        "trusted": true,
        "id": "XQzjOxpHGa2L"
      },
      "source": [
        "# Making the Confusion Matrix\n",
        "from sklearn.metrics import confusion_matrix\n",
        "cm = confusion_matrix(y_test, y_pred)\n",
        "# matrix contain the number of result of prediction \n",
        "cm"
      ],
      "execution_count": 23,
      "outputs": []
    },
    {
      "cell_type": "code",
      "metadata": {
        "trusted": true,
        "_uuid": "7b18c1c7799a32351908f68e449a2e0704883e92",
        "id": "hMNjbB58Ga2S"
      },
      "source": [
        "#print(\"Accuracy: \\n\",(((111+41)/192) *100))"
      ],
      "execution_count": 31,
      "outputs": []
    }
  ]
}